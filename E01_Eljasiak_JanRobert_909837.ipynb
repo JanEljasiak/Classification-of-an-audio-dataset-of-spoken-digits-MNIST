{
 "cells": [
  {
   "cell_type": "markdown",
   "source": [
    "# Assignment: Zero-Crossing Rate¶\n",
    "### Jan Robert Eljasiak 909837\n",
    "### Master’s Degree in Data Science (A.Y. 2024/2025)"
   ],
   "metadata": {
    "collapsed": false
   },
   "id": "70dcfcd87ff12b37"
  },
  {
   "cell_type": "code",
   "outputs": [],
   "source": [
    "import os\n",
    "from time import time\n",
    "\n",
    "import matplotlib.pyplot as plt\n",
    "import numpy as np\n",
    "from scipy.io import wavfile as wav\n",
    "from sklearn.metrics import classification_report, confusion_matrix\n",
    "from sklearn.model_selection import train_test_split, GridSearchCV\n",
    "# Classification tools\n",
    "from sklearn.svm import SVC"
   ],
   "metadata": {
    "collapsed": false,
    "ExecuteTime": {
     "end_time": "2025-02-19T18:00:08.185136Z",
     "start_time": "2025-02-19T18:00:08.172812Z"
    }
   },
   "id": "d818f1e14b994450",
   "execution_count": 83
  },
  {
   "cell_type": "markdown",
   "source": [
    "## Data loader¶"
   ],
   "metadata": {
    "collapsed": false
   },
   "id": "842787ae0f4eacd7"
  },
  {
   "cell_type": "code",
   "outputs": [],
   "source": [
    "# Placecholder for feature extractor\n",
    "def identity(input):\n",
    "    return input\n",
    "\n",
    "\n",
    "# Data loader\n",
    "def load_data(feature_extractor=identity, normalize=False):\n",
    "    labels = []\n",
    "    features = []\n",
    "\n",
    "    for f in sorted(os.listdir('./recordings')):\n",
    "        if f.endswith('.wav'):\n",
    "            # Load file and compute the requested features\n",
    "            _, signal = wav.read('./recordings/' + f)\n",
    "            cur_features = feature_extractor(signal)\n",
    "            features.append(cur_features)\n",
    "\n",
    "            # Classes\n",
    "            label = f.split('_')[0]\n",
    "            labels.append(label)\n",
    "\n",
    "    # X: features, y: labels\n",
    "    X_train, X_test, y_train, y_test = train_test_split(features, labels, test_size=0.1, random_state=1)\n",
    "\n",
    "    if normalize:\n",
    "        eps = 0.001\n",
    "        X_train = np.array(X_train)\n",
    "        X_train_mean = X_train.mean(axis=0)\n",
    "        X_train_std = X_train.std(axis=0)\n",
    "        X_train = (X_train - X_train_mean + eps) / (X_train_std + eps)\n",
    "        X_train = [row for row in X_train]\n",
    "\n",
    "        X_test = [row for row in (np.array(X_test) - X_train_mean + eps) / (X_train_std + eps)]\n",
    "\n",
    "    return X_train, X_test, y_train, y_test"
   ],
   "metadata": {
    "collapsed": false,
    "ExecuteTime": {
     "end_time": "2025-02-19T18:00:08.200578Z",
     "start_time": "2025-02-19T18:00:08.186137Z"
    }
   },
   "id": "f0b617f7aab57b4f",
   "execution_count": 84
  },
  {
   "cell_type": "markdown",
   "source": [],
   "metadata": {
    "collapsed": false
   },
   "id": "5e48e347a1c391ec"
  },
  {
   "cell_type": "markdown",
   "source": [
    "# Zero Crossing Rate"
   ],
   "metadata": {
    "collapsed": false
   },
   "id": "e0a78e6d9bb8ed14"
  },
  {
   "cell_type": "markdown",
   "source": [
    "The Zero Crossing Rate (ZCR) measures the rate at which a signal changes its sign (crosses the zero axis). It is computed using the formula:\n",
    "$$ ZCR = \\frac{1}{2} \\sum_{i=1}^{n} | \\text{sign}(x_{i}) - \\text{sign}(x_{i-1}) |$$\n",
    "\n",
    "where:\n",
    "-$x_i$ represents the amplitude of a discrete-time signal at index.\n",
    "-sign(x) is the sign function, returning +1 for positive values, -1 for negative values, and 0 for zero.\n",
    "\n",
    "\n",
    "For each sample $i = 1, \\ldots, n$\n",
    "\n",
    "$$\\frac{1}{2} | \\text{sign}(x_{i}) - \\text{sign}(x_{i-1}) | = \n",
    "    \\begin{cases}\n",
    "      1 \\text{ if the sign change (positive to negative or vice versa)} \\\\\n",
    "      0 \\text{ otherwise}\n",
    "    \\end{cases}$$\n",
    "    \n",
    "Therefore, ZCR represents the number of times the signal transitions between positive and negative."
   ],
   "metadata": {
    "collapsed": false
   },
   "id": "3979b29862f200d5"
  },
  {
   "cell_type": "code",
   "outputs": [
    {
     "data": {
      "text/plain": "array([3])"
     },
     "execution_count": 85,
     "metadata": {},
     "output_type": "execute_result"
    }
   ],
   "source": [
    "def zcr(input):\n",
    "    \"\"\"\n",
    "    Computes the Zero-Crossing Rate (ZCR) for an audio signal.\n",
    "    :param input: 1D numpy array representing audio signal.\n",
    "    :return: ZCR value as a numpy array.\n",
    "    \"\"\"\n",
    "    sign_changes = [np.abs(np.sign(input[i]) - np.sign(input[i - 1])) for i in range(1, len(input))]\n",
    "    return np.array([np.sum(sign_changes) // 2])\n",
    "\n",
    "\n",
    "# Test ZCR function\n",
    "zcr([1, -2, 3, 4, 5, -1])"
   ],
   "metadata": {
    "collapsed": false,
    "ExecuteTime": {
     "end_time": "2025-02-19T18:00:08.213179Z",
     "start_time": "2025-02-19T18:00:08.202136Z"
    }
   },
   "id": "b337cc51a3841d66",
   "execution_count": 85
  },
  {
   "cell_type": "code",
   "outputs": [
    {
     "name": "stdout",
     "output_type": "stream",
     "text": [
      "              precision    recall  f1-score   support\n",
      "\n",
      "           0       0.53      0.26      0.35        34\n",
      "           1       0.90      0.19      0.32        47\n",
      "           2       0.33      0.29      0.31        17\n",
      "           3       0.00      0.00      0.00         0\n",
      "           4       0.00      0.00      0.00         0\n",
      "           5       0.07      0.14      0.10         7\n",
      "           6       0.64      0.75      0.69        12\n",
      "           7       0.00      0.00      0.00         3\n",
      "           8       0.12      0.20      0.15        10\n",
      "           9       0.36      0.25      0.29        20\n",
      "\n",
      "    accuracy                           0.27       150\n",
      "   macro avg       0.30      0.21      0.22       150\n",
      "weighted avg       0.55      0.27      0.32       150\n"
     ]
    },
    {
     "name": "stderr",
     "output_type": "stream",
     "text": [
      "C:\\Users\\eljas\\AppData\\Local\\Programs\\Python\\Python39\\lib\\site-packages\\sklearn\\metrics\\_classification.py:1531: UndefinedMetricWarning: Recall is ill-defined and being set to 0.0 in labels with no true samples. Use `zero_division` parameter to control this behavior.\n",
      "  _warn_prf(average, modifier, f\"{metric.capitalize()} is\", len(result))\n",
      "C:\\Users\\eljas\\AppData\\Local\\Programs\\Python\\Python39\\lib\\site-packages\\sklearn\\metrics\\_classification.py:1531: UndefinedMetricWarning: Recall is ill-defined and being set to 0.0 in labels with no true samples. Use `zero_division` parameter to control this behavior.\n",
      "  _warn_prf(average, modifier, f\"{metric.capitalize()} is\", len(result))\n",
      "C:\\Users\\eljas\\AppData\\Local\\Programs\\Python\\Python39\\lib\\site-packages\\sklearn\\metrics\\_classification.py:1531: UndefinedMetricWarning: Recall is ill-defined and being set to 0.0 in labels with no true samples. Use `zero_division` parameter to control this behavior.\n",
      "  _warn_prf(average, modifier, f\"{metric.capitalize()} is\", len(result))\n"
     ]
    }
   ],
   "source": [
    "X_train, X_test, y_train, y_test = load_data(feature_extractor=zcr)\n",
    "clf = SVC(kernel='rbf')\n",
    "clf.fit(X_train, y_train)\n",
    "y_pred = clf.predict(X_test)\n",
    "print(classification_report(y_pred, y_test))"
   ],
   "metadata": {
    "collapsed": false,
    "ExecuteTime": {
     "end_time": "2025-02-19T18:00:18.197328Z",
     "start_time": "2025-02-19T18:00:08.215220Z"
    }
   },
   "id": "4fc1bc44b9eaf660",
   "execution_count": 86
  },
  {
   "cell_type": "code",
   "outputs": [
    {
     "name": "stdout",
     "output_type": "stream",
     "text": [
      "Confusion matrix:\n",
      "[[ 9  5  1  0  0  2  0  0  0  0]\n",
      " [ 0  9  0  0  0  0  0  0  0  1]\n",
      " [ 3  2  5  0  0  1  0  0  2  2]\n",
      " [ 2 14  1  0  0  0  0  0  0  2]\n",
      " [ 3  5  0  0  0  0  0  0  0  3]\n",
      " [ 3  2  3  0  0  1  1  2  0  2]\n",
      " [ 0  2  0  0  0  0  9  1  1  1]\n",
      " [ 4  2  2  0  0  2  2  0  4  3]\n",
      " [ 4  5  5  0  0  0  0  0  2  1]\n",
      " [ 6  1  0  0  0  1  0  0  1  5]]\n"
     ]
    }
   ],
   "source": [
    "# Confusion matrix\n",
    "print('Confusion matrix:')\n",
    "cm = confusion_matrix(y_test, y_pred)\n",
    "print(cm)"
   ],
   "metadata": {
    "collapsed": false,
    "ExecuteTime": {
     "end_time": "2025-02-19T18:00:18.215439Z",
     "start_time": "2025-02-19T18:00:18.198341Z"
    }
   },
   "id": "4c14bde205dcdc1e",
   "execution_count": 87
  },
  {
   "cell_type": "code",
   "outputs": [
    {
     "data": {
      "text/plain": "Text(0, 0.5, 'Actual')"
     },
     "execution_count": 88,
     "metadata": {},
     "output_type": "execute_result"
    },
    {
     "data": {
      "text/plain": "<Figure size 640x480 with 1 Axes>",
      "image/png": "[encoded data removed]"
     },
     "metadata": {},
     "output_type": "display_data"
    }
   ],
   "source": [
    "plt.imshow(cm, cmap=plt.cm.Blues)\n",
    "plt.xlabel(\"Prediction\")\n",
    "plt.ylabel(\"Actual\")"
   ],
   "metadata": {
    "collapsed": false,
    "ExecuteTime": {
     "end_time": "2025-02-19T18:00:18.339626Z",
     "start_time": "2025-02-19T18:00:18.215439Z"
    }
   },
   "id": "d572af4e4fc39573",
   "execution_count": 88
  },
  {
   "cell_type": "code",
   "outputs": [],
   "source": [
    "# Implementation of the functions from the laboratories\n",
    "\n",
    "def energy(input):\n",
    "    return np.sum((input * 1.0) ** 2, keepdims=True)\n",
    "\n",
    "\n",
    "def duration(input):\n",
    "    return np.array(input.shape)\n",
    "\n",
    "\n",
    "def combo2(input):\n",
    "    return np.concatenate((energy(input), duration(input), zcr(input)))"
   ],
   "metadata": {
    "collapsed": false,
    "ExecuteTime": {
     "end_time": "2025-02-19T18:00:18.354809Z",
     "start_time": "2025-02-19T18:00:18.340627Z"
    }
   },
   "id": "1d9316da0e977bbf",
   "execution_count": 89
  },
  {
   "cell_type": "markdown",
   "source": [
    "## Classification Using Combined Features"
   ],
   "metadata": {
    "collapsed": false
   },
   "id": "fe0400e955cd0b56"
  },
  {
   "cell_type": "code",
   "outputs": [
    {
     "name": "stdout",
     "output_type": "stream",
     "text": [
      "Training completed in 2.077s\n",
      "Best parameters combination:\n",
      " C: 100\n",
      " gamma: 0.5\n"
     ]
    }
   ],
   "source": [
    "# Data loading\n",
    "X_train, X_test, y_train, y_test = load_data(feature_extractor=combo2, normalize=True)\n",
    "# Parameters to be tested in cross-validation\n",
    "param_grid = {'C': [100, 500, 1000],\n",
    "              'gamma': [0.005, 0.01, 0.1, 0.5, 1.0], }\n",
    "\n",
    "# Support Vector Machine initialization\n",
    "clf = GridSearchCV(SVC(kernel='rbf', class_weight='balanced'), param_grid, cv=2)\n",
    "\n",
    "# Training\n",
    "t0 = time()\n",
    "clf = clf.fit(X_train, y_train)\n",
    "print('Training completed in %0.3fs' % (time() - t0))\n",
    "# Result of the cross validation for parameters selection\n",
    "print('Best parameters combination:')\n",
    "print(' C: ' + str(clf.best_estimator_.C))\n",
    "print(' gamma: ' + str(clf.best_estimator_.gamma))"
   ],
   "metadata": {
    "collapsed": false,
    "ExecuteTime": {
     "end_time": "2025-02-19T18:00:31.610742Z",
     "start_time": "2025-02-19T18:00:18.355906Z"
    }
   },
   "id": "3fa8cea9f84b0333",
   "execution_count": 90
  },
  {
   "cell_type": "code",
   "outputs": [
    {
     "name": "stdout",
     "output_type": "stream",
     "text": [
      "              precision    recall  f1-score   support\n",
      "\n",
      "           0       0.86      0.71      0.77        17\n",
      "           1       0.44      0.80      0.57        10\n",
      "           2       0.54      0.47      0.50        15\n",
      "           3       0.62      0.42      0.50        19\n",
      "           4       0.50      0.45      0.48        11\n",
      "           5       0.30      0.43      0.35        14\n",
      "           6       0.81      0.93      0.87        14\n",
      "           7       0.56      0.26      0.36        19\n",
      "           8       0.44      0.47      0.46        17\n",
      "           9       0.58      0.79      0.67        14\n",
      "\n",
      "    accuracy                           0.55       150\n",
      "   macro avg       0.56      0.57      0.55       150\n",
      "weighted avg       0.57      0.55      0.55       150\n"
     ]
    }
   ],
   "source": [
    "# SVM test\n",
    "y_pred = clf.predict(X_test)\n",
    "print(classification_report(y_test, y_pred))"
   ],
   "metadata": {
    "collapsed": false,
    "ExecuteTime": {
     "end_time": "2025-02-19T18:00:31.641865Z",
     "start_time": "2025-02-19T18:00:31.611600Z"
    }
   },
   "id": "a2b75d60e63dcb60",
   "execution_count": 91
  },
  {
   "cell_type": "code",
   "outputs": [
    {
     "name": "stdout",
     "output_type": "stream",
     "text": [
      "Confusion matrix:\n"
     ]
    },
    {
     "data": {
      "text/plain": "<Figure size 640x480 with 1 Axes>",
      "image/png": "[encoded data removed]"
     },
     "metadata": {},
     "output_type": "display_data"
    }
   ],
   "source": [
    "# Confusion matrix\n",
    "print('Confusion matrix:')\n",
    "cm = confusion_matrix(y_test, y_pred)\n",
    "plt.imshow(cm, cmap=plt.cm.Blues);\n",
    "plt.xlabel('Prediction');\n",
    "plt.ylabel('Ground truth');"
   ],
   "metadata": {
    "collapsed": false,
    "ExecuteTime": {
     "end_time": "2025-02-19T18:00:31.735081Z",
     "start_time": "2025-02-19T18:00:31.642924Z"
    }
   },
   "id": "a678a31b19e07a7c",
   "execution_count": 92
  }
 ],
 "metadata": {
  "kernelspec": {
   "display_name": "Python 3",
   "language": "python",
   "name": "python3"
  },
  "language_info": {
   "codemirror_mode": {
    "name": "ipython",
    "version": 2
   },
   "file_extension": ".py",
   "mimetype": "text/x-python",
   "name": "python",
   "nbconvert_exporter": "python",
   "pygments_lexer": "ipython2",
   "version": "2.7.6"
  }
 },
 "nbformat": 4,
 "nbformat_minor": 5
}
