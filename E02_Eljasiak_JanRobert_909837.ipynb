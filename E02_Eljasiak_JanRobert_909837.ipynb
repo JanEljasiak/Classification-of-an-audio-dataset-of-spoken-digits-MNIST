{
 "cells": [
  {
   "cell_type": "markdown",
   "source": [
    "# Assignment: classification based on 2D features (Spectrogram, MFCC)\n",
    "### Jan Robert Eljasiak\n",
    "### Master’s Degree in Data Science (A.Y. 2024/2025)"
   ],
   "metadata": {
    "collapsed": false
   },
   "id": "cd575ae07edbdf67"
  },
  {
   "cell_type": "code",
   "outputs": [],
   "source": [
    "# Import necessary libraries\n",
    "import os\n",
    "from time import time\n",
    "\n",
    "import matplotlib.pyplot as plt\n",
    "import numpy as np\n",
    "# Frequency analysis\n",
    "from librosa import load\n",
    "from librosa.feature import melspectrogram, mfcc\n",
    "from librosa.util import fix_length\n",
    "# Classification tools\n",
    "from sklearn.metrics import classification_report, confusion_matrix\n",
    "from sklearn.model_selection import train_test_split, GridSearchCV\n",
    "from sklearn.svm import SVC"
   ],
   "metadata": {
    "collapsed": false,
    "ExecuteTime": {
     "end_time": "2025-02-19T20:39:06.673601Z",
     "start_time": "2025-02-19T20:39:06.617154Z"
    }
   },
   "id": "9eb5ff0b18c2911e",
   "execution_count": 23
  },
  {
   "cell_type": "markdown",
   "source": [
    "## Data loading and evalution functions"
   ],
   "metadata": {
    "collapsed": false
   },
   "id": "d295c4ed8ac94cb1"
  },
  {
   "cell_type": "code",
   "outputs": [],
   "source": [
    "# Placecholder for feature extractor\n",
    "def identity(input):\n",
    "    return input\n",
    "\n",
    "\n",
    "# Data loader\n",
    "def load_data(feature_extractor=identity, normalize=True):\n",
    "    labels = []\n",
    "    features = []\n",
    "\n",
    "    for f in sorted(os.listdir('./recordings')):\n",
    "        if f.endswith('.wav'):\n",
    "            # Load file and compute the requested features\n",
    "            y, sr = load(os.path.join(\"./recordings\", f))\n",
    "            cur_features = feature_extractor(y, sr)\n",
    "            features.append(cur_features)\n",
    "\n",
    "            # Classes\n",
    "            label = f.split('_')[0]\n",
    "            labels.append(label)\n",
    "\n",
    "    # X: features, y: labels\n",
    "    X_train, X_test, y_train, y_test = train_test_split(features, labels, test_size=0.1, random_state=1)\n",
    "\n",
    "    if normalize:\n",
    "        eps = 0.001\n",
    "        X_train = np.array(X_train)\n",
    "        X_train_mean = X_train.mean(axis=0)\n",
    "        X_train_std = X_train.std(axis=0)\n",
    "        X_train = (X_train - X_train_mean + eps) / (X_train_std + eps)\n",
    "        X_train = [row for row in X_train]\n",
    "\n",
    "        X_test = [row for row in (np.array(X_test) - X_train_mean + eps) / (X_train_std + eps)]\n",
    "\n",
    "    return X_train, X_test, y_train, y_test"
   ],
   "metadata": {
    "collapsed": false,
    "ExecuteTime": {
     "end_time": "2025-02-19T20:39:06.706670Z",
     "start_time": "2025-02-19T20:39:06.676643Z"
    }
   },
   "id": "8462120e15a28a55",
   "execution_count": 24
  },
  {
   "cell_type": "code",
   "outputs": [],
   "source": [
    "# Function to evaluate classification performance\n",
    "def evaluation(feature_extractor):\n",
    "    \"\"\"\n",
    "    Evaluates a classification model using the given feature extractor.\n",
    "\n",
    "    Args:\n",
    "        feature_extractor (function): Feature extraction function.\n",
    "    \n",
    "    Prints:\n",
    "        - Best hyperparameters from grid search\n",
    "        - Classification report\n",
    "        - Confusion matrix\n",
    "    \"\"\"\n",
    "\n",
    "    # Data loading\n",
    "    X_train, X_test, y_train, y_test = load_data(feature_extractor=feature_extractor)\n",
    "\n",
    "    # Parameters to be tested in cross-validation\n",
    "    param_grid = {'C': [100, 500, 1000],\n",
    "                  'gamma': [0.005, 0.01, 0.1, 0.5, 1.0], }\n",
    "\n",
    "    # Support Vector Machine initialization\n",
    "    clf = GridSearchCV(SVC(kernel='rbf', class_weight='balanced'), param_grid, cv=2)\n",
    "\n",
    "    # Training\n",
    "    t0 = time()\n",
    "    clf = clf.fit(X_train, y_train)\n",
    "    print('Training completed in %0.3fs' % (time() - t0))\n",
    "\n",
    "    # Result of the cross validation for parameters selection\n",
    "    print('Best parameters combination:')\n",
    "    print(' C: ' + str(clf.best_estimator_.C))\n",
    "    print(' gamma: ' + str(clf.best_estimator_.gamma))\n",
    "\n",
    "    # Make predictions\n",
    "    clf.fit(X_train, y_train)\n",
    "    y_pred = clf.predict(X_test)\n",
    "\n",
    "    # Classification report\n",
    "    print('Classification report:')\n",
    "    print(classification_report(y_pred, y_test))\n",
    "\n",
    "    # Confusion matrix\n",
    "    print('Confusion matrix:')\n",
    "    cm = confusion_matrix(y_test, y_pred)\n",
    "    print(cm)\n",
    "    plt.imshow(cm, cmap=plt.cm.Blues)\n",
    "    plt.xlabel(\"Prediction\")\n",
    "    plt.ylabel(\"Actual\")"
   ],
   "metadata": {
    "collapsed": false,
    "ExecuteTime": {
     "end_time": "2025-02-19T20:39:06.739941Z",
     "start_time": "2025-02-19T20:39:06.708986Z"
    }
   },
   "id": "2132feb1cd669c43",
   "execution_count": 25
  },
  {
   "cell_type": "markdown",
   "source": [
    "# Temporal/Frequency features (spectrogram)"
   ],
   "metadata": {
    "collapsed": false
   },
   "id": "a6672ced938d107e"
  },
  {
   "cell_type": "code",
   "outputs": [
    {
     "name": "stdout",
     "output_type": "stream",
     "text": [
      "Training completed in 13.203s\n",
      "Best parameters combination:\n",
      " C: 1000\n",
      " gamma: 0.005\n",
      "Classification report:\n",
      "              precision    recall  f1-score   support\n",
      "\n",
      "           0       0.71      1.00      0.83        12\n",
      "           1       0.80      0.62      0.70        13\n",
      "           2       0.80      0.80      0.80        15\n",
      "           3       0.79      0.79      0.79        19\n",
      "           4       0.82      0.28      0.42        32\n",
      "           5       0.71      0.83      0.77        12\n",
      "           6       0.71      0.59      0.65        17\n",
      "           7       0.58      0.92      0.71        12\n",
      "           8       0.41      0.88      0.56         8\n",
      "           9       0.50      0.70      0.58        10\n",
      "\n",
      "    accuracy                           0.67       150\n",
      "   macro avg       0.68      0.74      0.68       150\n",
      "weighted avg       0.72      0.67      0.66       150\n",
      "\n",
      "Confusion matrix:\n",
      "[[12  0  0  1  3  1  0  0  0  0]\n",
      " [ 0  8  0  0  2  0  0  0  0  0]\n",
      " [ 0  0 12  0  1  0  2  0  0  0]\n",
      " [ 0  0  2 15  0  0  1  0  0  1]\n",
      " [ 0  1  0  1  9  0  0  0  0  0]\n",
      " [ 0  0  0  0  4 10  0  0  0  0]\n",
      " [ 0  1  1  0  0  0 10  1  0  1]\n",
      " [ 0  0  0  0  4  0  2 11  1  1]\n",
      " [ 0  0  0  2  6  0  2  0  7  0]\n",
      " [ 0  3  0  0  3  1  0  0  0  7]]\n"
     ]
    },
    {
     "data": {
      "text/plain": "<Figure size 640x480 with 1 Axes>",
      "image/png": "[encoded data removed]"
     },
     "metadata": {},
     "output_type": "display_data"
    }
   ],
   "source": [
    "def feats_spectrogram(y, sr, tsize=10):\n",
    "    \"\"\"\n",
    "    Extracts a Mel spectrogram feature, resizes it, and flattens it into a 1D vector.\n",
    "\n",
    "    Args:\n",
    "        y (array): Audio time-series.\n",
    "        sr (int): Sampling rate.\n",
    "        tsize (int): Target size for time axis.\n",
    "\n",
    "    Returns:\n",
    "        1D NumPy array of the spectrogram features.\n",
    "    \"\"\"\n",
    "    # Extract the 2-dimensional feature\n",
    "    mel = melspectrogram(y=y, sr=sr)\n",
    "    # Force the feature to have fixed size\n",
    "    mel_resized = fix_length(mel, size=tsize, axis=1, mode=\"edge\")\n",
    "    # Unroll the 2-dimensional feature into a 1-dimensional vector\n",
    "    return mel_resized.flatten()\n",
    "\n",
    "\n",
    "# Evaluate classification using spectrogram features\n",
    "evaluation(feature_extractor=feats_spectrogram)"
   ],
   "metadata": {
    "collapsed": false,
    "ExecuteTime": {
     "end_time": "2025-02-19T20:39:38.600638Z",
     "start_time": "2025-02-19T20:39:06.742145Z"
    }
   },
   "id": "42420f25ce09f676",
   "execution_count": 26
  },
  {
   "cell_type": "markdown",
   "source": [
    "The model using Mel spectrogram feature correctly classifies about two-thirds of the test samples. Digits 4, 6, 9 seem to have a higher misclassification rate."
   ],
   "metadata": {
    "collapsed": false
   },
   "id": "61d2423eb612f458"
  },
  {
   "cell_type": "markdown",
   "source": [
    "# Cepstral Features (MFCC)"
   ],
   "metadata": {
    "collapsed": false
   },
   "id": "be424041a454e43b"
  },
  {
   "cell_type": "code",
   "outputs": [
    {
     "name": "stdout",
     "output_type": "stream",
     "text": [
      "Training completed in 2.945s\n",
      "Best parameters combination:\n",
      " C: 100\n",
      " gamma: 0.005\n",
      "Classification report:\n",
      "              precision    recall  f1-score   support\n",
      "\n",
      "           0       1.00      1.00      1.00        17\n",
      "           1       1.00      1.00      1.00        10\n",
      "           2       1.00      1.00      1.00        15\n",
      "           3       1.00      1.00      1.00        19\n",
      "           4       1.00      1.00      1.00        11\n",
      "           5       1.00      1.00      1.00        14\n",
      "           6       1.00      1.00      1.00        14\n",
      "           7       1.00      1.00      1.00        19\n",
      "           8       1.00      1.00      1.00        17\n",
      "           9       1.00      1.00      1.00        14\n",
      "\n",
      "    accuracy                           1.00       150\n",
      "   macro avg       1.00      1.00      1.00       150\n",
      "weighted avg       1.00      1.00      1.00       150\n",
      "\n",
      "Confusion matrix:\n",
      "[[17  0  0  0  0  0  0  0  0  0]\n",
      " [ 0 10  0  0  0  0  0  0  0  0]\n",
      " [ 0  0 15  0  0  0  0  0  0  0]\n",
      " [ 0  0  0 19  0  0  0  0  0  0]\n",
      " [ 0  0  0  0 11  0  0  0  0  0]\n",
      " [ 0  0  0  0  0 14  0  0  0  0]\n",
      " [ 0  0  0  0  0  0 14  0  0  0]\n",
      " [ 0  0  0  0  0  0  0 19  0  0]\n",
      " [ 0  0  0  0  0  0  0  0 17  0]\n",
      " [ 0  0  0  0  0  0  0  0  0 14]]\n"
     ]
    },
    {
     "data": {
      "text/plain": "<Figure size 640x480 with 1 Axes>",
      "image/png": "[encoded data removed]"
     },
     "metadata": {},
     "output_type": "display_data"
    }
   ],
   "source": [
    "def feats_mfcc(y, sr, tsize=10):\n",
    "    \"\"\"\n",
    "    Extracts MFCC features, resizes them, and flattens them into a 1D vector.\n",
    "\n",
    "    Args:\n",
    "        y (array): Audio time-series.\n",
    "        sr (int): Sampling rate.\n",
    "        tsize (int): Target size for time axis.\n",
    "\n",
    "    Returns:\n",
    "        1D NumPy array of the MFCC features.\n",
    "    \"\"\"\n",
    "    # Extract the 2-dimensional feature\n",
    "    cepstral = mfcc(y=y, sr=sr)\n",
    "    # Force the feature to have fixed size\n",
    "    mfcc_resized = fix_length(cepstral, size=tsize, axis=1, mode='edge')\n",
    "    # Unroll the 2-dimensional feature into a 1-dimensional vector\n",
    "    return mfcc_resized.flatten()\n",
    "\n",
    "\n",
    "# Evaluate classification using MFCC features\n",
    "evaluation(feature_extractor=feats_mfcc)"
   ],
   "metadata": {
    "collapsed": false,
    "ExecuteTime": {
     "end_time": "2025-02-19T20:41:25.263839Z",
     "start_time": "2025-02-19T20:41:12.875219Z"
    }
   },
   "id": "7972425e73108076",
   "execution_count": 28
  },
  {
   "cell_type": "markdown",
   "source": [
    "The model based on MFCC features correctly classifies all the digits."
   ],
   "metadata": {
    "collapsed": false
   },
   "id": "7d73cd4ed87da6dd"
  }
 ],
 "metadata": {
  "kernelspec": {
   "display_name": "Python 3",
   "language": "python",
   "name": "python3"
  },
  "language_info": {
   "codemirror_mode": {
    "name": "ipython",
    "version": 2
   },
   "file_extension": ".py",
   "mimetype": "text/x-python",
   "name": "python",
   "nbconvert_exporter": "python",
   "pygments_lexer": "ipython2",
   "version": "2.7.6"
  }
 },
 "nbformat": 4,
 "nbformat_minor": 5
}
